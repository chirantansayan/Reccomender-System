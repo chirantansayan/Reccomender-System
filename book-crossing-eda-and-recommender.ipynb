{
 "cells": [
  {
   "cell_type": "code",
   "execution_count": 1,
   "metadata": {
    "_cell_guid": "b1076dfc-b9ad-4769-8c92-a6c4dae69d19",
    "_kg_hide-input": true,
    "_kg_hide-output": true,
    "_uuid": "8f2839f25d086af736a60e9eeb907d3b93b6e0e5",
    "execution": {
     "iopub.execute_input": "2020-09-15T08:06:03.659220Z",
     "iopub.status.busy": "2020-09-15T08:06:03.658100Z",
     "iopub.status.idle": "2020-09-15T08:06:03.672816Z",
     "shell.execute_reply": "2020-09-15T08:06:03.672202Z"
    },
    "papermill": {
     "duration": 0.047754,
     "end_time": "2020-09-15T08:06:03.672944",
     "exception": false,
     "start_time": "2020-09-15T08:06:03.625190",
     "status": "completed"
    },
    "tags": []
   },
   "outputs": [
    {
     "name": "stdout",
     "output_type": "stream",
     "text": [
      "/kaggle/input/bookcrossing-dataset/Book reviews/BX-Users.csv\n",
      "/kaggle/input/bookcrossing-dataset/Book reviews/BX-Books.csv\n",
      "/kaggle/input/bookcrossing-dataset/Book reviews/BX-Book-Ratings.csv\n"
     ]
    }
   ],
   "source": [
    "# This Python 3 environment comes with many helpful analytics libraries installed\n",
    "# It is defined by the kaggle/python Docker image: https://github.com/kaggle/docker-python\n",
    "# For example, here's several helpful packages to load\n",
    "\n",
    "import numpy as np # linear algebra\n",
    "import pandas as pd # data processing, CSV file I/O (e.g. pd.read_csv)\n",
    "\n",
    "# Input data files are available in the read-only \"../input/\" directory\n",
    "# For example, running this (by clicking run or pressing Shift+Enter) will list all files under the input directory\n",
    "\n",
    "import os\n",
    "for dirname, _, filenames in os.walk('/kaggle/input'):\n",
    "    for filename in filenames:\n",
    "        print(os.path.join(dirname, filename))\n",
    "\n",
    "# You can write up to 5GB to the current directory (/kaggle/working/) that gets preserved as output when you create a version using \"Save & Run All\" \n",
    "# You can also write temporary files to /kaggle/temp/, but they won't be saved outside of the current session"
   ]
  },
  {
   "cell_type": "markdown",
   "metadata": {
    "papermill": {
     "duration": 0.029637,
     "end_time": "2020-09-15T08:06:03.731733",
     "exception": false,
     "start_time": "2020-09-15T08:06:03.702096",
     "status": "completed"
    },
    "tags": []
   },
   "source": [
    "# Imports"
   ]
  },
  {
   "cell_type": "code",
   "execution_count": 2,
   "metadata": {
    "execution": {
     "iopub.execute_input": "2020-09-15T08:06:03.794079Z",
     "iopub.status.busy": "2020-09-15T08:06:03.793013Z",
     "iopub.status.idle": "2020-09-15T08:06:04.806670Z",
     "shell.execute_reply": "2020-09-15T08:06:04.807632Z"
    },
    "papermill": {
     "duration": 1.048267,
     "end_time": "2020-09-15T08:06:04.807814",
     "exception": false,
     "start_time": "2020-09-15T08:06:03.759547",
     "status": "completed"
    },
    "tags": []
   },
   "outputs": [],
   "source": [
    "import seaborn as sns\n",
    "import matplotlib.pyplot as plt"
   ]
  },
  {
   "cell_type": "markdown",
   "metadata": {
    "papermill": {
     "duration": 0.027511,
     "end_time": "2020-09-15T08:06:04.863056",
     "exception": false,
     "start_time": "2020-09-15T08:06:04.835545",
     "status": "completed"
    },
    "tags": []
   },
   "source": [
    "# Reading csv files"
   ]
  },
  {
   "cell_type": "code",
   "execution_count": 3,
   "metadata": {
    "execution": {
     "iopub.execute_input": "2020-09-15T08:06:04.933462Z",
     "iopub.status.busy": "2020-09-15T08:06:04.932779Z",
     "iopub.status.idle": "2020-09-15T08:06:09.339830Z",
     "shell.execute_reply": "2020-09-15T08:06:09.339170Z"
    },
    "papermill": {
     "duration": 4.448267,
     "end_time": "2020-09-15T08:06:09.339978",
     "exception": false,
     "start_time": "2020-09-15T08:06:04.891711",
     "status": "completed"
    },
    "tags": []
   },
   "outputs": [],
   "source": [
    "#Users\n",
    "u_cols = ['user_id', 'location', 'age']\n",
    "users = pd.read_csv('../input/bookcrossing-dataset/Book reviews/BX-Users.csv', sep=';', names=u_cols, encoding='latin-1',low_memory=False)\n",
    "\n",
    "#Books\n",
    "i_cols = ['isbn', 'book_title' ,'book_author','year_of_publication', 'publisher', 'img_s', 'img_m', 'img_l']\n",
    "items = pd.read_csv('../input/bookcrossing-dataset/Book reviews/BX-Books.csv', sep=';', names=i_cols, encoding='latin-1',low_memory=False)\n",
    "\n",
    "#Ratings\n",
    "r_cols = ['user_id', 'isbn', 'rating']\n",
    "ratings = pd.read_csv('../input/bookcrossing-dataset/Book reviews/BX-Book-Ratings.csv', sep=';', names=r_cols, encoding='latin-1',low_memory=False)"
   ]
  },
  {
   "cell_type": "markdown",
   "metadata": {
    "papermill": {
     "duration": 0.027406,
     "end_time": "2020-09-15T08:06:09.395706",
     "exception": false,
     "start_time": "2020-09-15T08:06:09.368300",
     "status": "completed"
    },
    "tags": []
   },
   "source": [
    "# What does the data look like?"
   ]
  },
  {
   "cell_type": "code",
   "execution_count": 4,
   "metadata": {
    "execution": {
     "iopub.execute_input": "2020-09-15T08:06:09.462444Z",
     "iopub.status.busy": "2020-09-15T08:06:09.461767Z",
     "iopub.status.idle": "2020-09-15T08:06:09.466503Z",
     "shell.execute_reply": "2020-09-15T08:06:09.465807Z"
    },
    "papermill": {
     "duration": 0.041505,
     "end_time": "2020-09-15T08:06:09.466641",
     "exception": false,
     "start_time": "2020-09-15T08:06:09.425136",
     "status": "completed"
    },
    "tags": []
   },
   "outputs": [
    {
     "data": {
      "text/plain": [
       "(278859, 3)"
      ]
     },
     "execution_count": 4,
     "metadata": {},
     "output_type": "execute_result"
    }
   ],
   "source": [
    "users.head(5)\n",
    "users.shape"
   ]
  },
  {
   "cell_type": "code",
   "execution_count": 5,
   "metadata": {
    "execution": {
     "iopub.execute_input": "2020-09-15T08:06:09.530564Z",
     "iopub.status.busy": "2020-09-15T08:06:09.529444Z",
     "iopub.status.idle": "2020-09-15T08:06:09.533799Z",
     "shell.execute_reply": "2020-09-15T08:06:09.534370Z"
    },
    "papermill": {
     "duration": 0.039609,
     "end_time": "2020-09-15T08:06:09.534536",
     "exception": false,
     "start_time": "2020-09-15T08:06:09.494927",
     "status": "completed"
    },
    "tags": []
   },
   "outputs": [
    {
     "data": {
      "text/plain": [
       "(271380, 8)"
      ]
     },
     "execution_count": 5,
     "metadata": {},
     "output_type": "execute_result"
    }
   ],
   "source": [
    "items.head(5)\n",
    "items.shape"
   ]
  },
  {
   "cell_type": "code",
   "execution_count": 6,
   "metadata": {
    "execution": {
     "iopub.execute_input": "2020-09-15T08:06:09.597977Z",
     "iopub.status.busy": "2020-09-15T08:06:09.596946Z",
     "iopub.status.idle": "2020-09-15T08:06:09.602981Z",
     "shell.execute_reply": "2020-09-15T08:06:09.603665Z"
    },
    "papermill": {
     "duration": 0.039853,
     "end_time": "2020-09-15T08:06:09.603833",
     "exception": false,
     "start_time": "2020-09-15T08:06:09.563980",
     "status": "completed"
    },
    "tags": []
   },
   "outputs": [
    {
     "data": {
      "text/plain": [
       "(1149781, 3)"
      ]
     },
     "execution_count": 6,
     "metadata": {},
     "output_type": "execute_result"
    }
   ],
   "source": [
    "ratings.head(5)\n",
    "ratings.shape"
   ]
  },
  {
   "cell_type": "code",
   "execution_count": 7,
   "metadata": {
    "execution": {
     "iopub.execute_input": "2020-09-15T08:06:09.667128Z",
     "iopub.status.busy": "2020-09-15T08:06:09.666393Z",
     "iopub.status.idle": "2020-09-15T08:06:09.861533Z",
     "shell.execute_reply": "2020-09-15T08:06:09.860852Z"
    },
    "papermill": {
     "duration": 0.228509,
     "end_time": "2020-09-15T08:06:09.861666",
     "exception": false,
     "start_time": "2020-09-15T08:06:09.633157",
     "status": "completed"
    },
    "tags": []
   },
   "outputs": [],
   "source": [
    "users = users.drop(users.index[0])\n",
    "items = items.drop(items.index[0])\n",
    "ratings = ratings.drop(ratings.index[0])"
   ]
  },
  {
   "cell_type": "markdown",
   "metadata": {
    "papermill": {
     "duration": 0.028975,
     "end_time": "2020-09-15T08:06:09.920929",
     "exception": false,
     "start_time": "2020-09-15T08:06:09.891954",
     "status": "completed"
    },
    "tags": []
   },
   "source": [
    "# Merging the dataframes"
   ]
  },
  {
   "cell_type": "code",
   "execution_count": 8,
   "metadata": {
    "execution": {
     "iopub.execute_input": "2020-09-15T08:06:09.988792Z",
     "iopub.status.busy": "2020-09-15T08:06:09.988092Z",
     "iopub.status.idle": "2020-09-15T08:06:11.682200Z",
     "shell.execute_reply": "2020-09-15T08:06:11.681680Z"
    },
    "papermill": {
     "duration": 1.731873,
     "end_time": "2020-09-15T08:06:11.682317",
     "exception": false,
     "start_time": "2020-09-15T08:06:09.950444",
     "status": "completed"
    },
    "tags": []
   },
   "outputs": [
    {
     "data": {
      "text/plain": [
       "(1031175, 12)"
      ]
     },
     "execution_count": 8,
     "metadata": {},
     "output_type": "execute_result"
    }
   ],
   "source": [
    "df = pd.merge(users, ratings, on='user_id')\n",
    "df = pd.merge(df, items, on='isbn')\n",
    "df.head(5)\n",
    "df.shape"
   ]
  },
  {
   "cell_type": "markdown",
   "metadata": {
    "papermill": {
     "duration": 0.029273,
     "end_time": "2020-09-15T08:06:11.741101",
     "exception": false,
     "start_time": "2020-09-15T08:06:11.711828",
     "status": "completed"
    },
    "tags": []
   },
   "source": [
    "Changing The Dataframe chunk to 1 Lakh because I was running out of memory. you can work with original data which will give you better result."
   ]
  },
  {
   "cell_type": "code",
   "execution_count": 9,
   "metadata": {
    "execution": {
     "iopub.execute_input": "2020-09-15T08:06:11.806856Z",
     "iopub.status.busy": "2020-09-15T08:06:11.806183Z",
     "iopub.status.idle": "2020-09-15T08:06:11.809393Z",
     "shell.execute_reply": "2020-09-15T08:06:11.809908Z"
    },
    "papermill": {
     "duration": 0.039284,
     "end_time": "2020-09-15T08:06:11.810051",
     "exception": false,
     "start_time": "2020-09-15T08:06:11.770767",
     "status": "completed"
    },
    "tags": []
   },
   "outputs": [
    {
     "data": {
      "text/plain": [
       "(102000, 12)"
      ]
     },
     "execution_count": 9,
     "metadata": {},
     "output_type": "execute_result"
    }
   ],
   "source": [
    "df = df[:102000]\n",
    "df.shape"
   ]
  },
  {
   "cell_type": "markdown",
   "metadata": {
    "papermill": {
     "duration": 0.030721,
     "end_time": "2020-09-15T08:06:11.871656",
     "exception": false,
     "start_time": "2020-09-15T08:06:11.840935",
     "status": "completed"
    },
    "tags": []
   },
   "source": [
    "# Dropping null values and Unwanted values"
   ]
  },
  {
   "cell_type": "code",
   "execution_count": 10,
   "metadata": {
    "execution": {
     "iopub.execute_input": "2020-09-15T08:06:11.936982Z",
     "iopub.status.busy": "2020-09-15T08:06:11.936322Z",
     "iopub.status.idle": "2020-09-15T08:06:12.242320Z",
     "shell.execute_reply": "2020-09-15T08:06:12.241765Z"
    },
    "papermill": {
     "duration": 0.34064,
     "end_time": "2020-09-15T08:06:12.242466",
     "exception": false,
     "start_time": "2020-09-15T08:06:11.901826",
     "status": "completed"
    },
    "tags": []
   },
   "outputs": [
    {
     "data": {
      "text/html": [
       "<div>\n",
       "<style scoped>\n",
       "    .dataframe tbody tr th:only-of-type {\n",
       "        vertical-align: middle;\n",
       "    }\n",
       "\n",
       "    .dataframe tbody tr th {\n",
       "        vertical-align: top;\n",
       "    }\n",
       "\n",
       "    .dataframe thead th {\n",
       "        text-align: right;\n",
       "    }\n",
       "</style>\n",
       "<table border=\"1\" class=\"dataframe\">\n",
       "  <thead>\n",
       "    <tr style=\"text-align: right;\">\n",
       "      <th></th>\n",
       "      <th>user_id</th>\n",
       "      <th>location</th>\n",
       "      <th>age</th>\n",
       "      <th>isbn</th>\n",
       "      <th>rating</th>\n",
       "      <th>book_title</th>\n",
       "      <th>book_author</th>\n",
       "      <th>year_of_publication</th>\n",
       "      <th>publisher</th>\n",
       "    </tr>\n",
       "  </thead>\n",
       "  <tbody>\n",
       "    <tr>\n",
       "      <th>0</th>\n",
       "      <td>2</td>\n",
       "      <td>stockton, california, usa</td>\n",
       "      <td>18</td>\n",
       "      <td>0195153448</td>\n",
       "      <td>0</td>\n",
       "      <td>Classical Mythology</td>\n",
       "      <td>Mark P. O. Morford</td>\n",
       "      <td>2002</td>\n",
       "      <td>Oxford University Press</td>\n",
       "    </tr>\n",
       "    <tr>\n",
       "      <th>2</th>\n",
       "      <td>11400</td>\n",
       "      <td>ottawa, ontario, canada</td>\n",
       "      <td>49</td>\n",
       "      <td>0002005018</td>\n",
       "      <td>0</td>\n",
       "      <td>Clara Callan</td>\n",
       "      <td>Richard Bruce Wright</td>\n",
       "      <td>2001</td>\n",
       "      <td>HarperFlamingo Canada</td>\n",
       "    </tr>\n",
       "    <tr>\n",
       "      <th>5</th>\n",
       "      <td>67544</td>\n",
       "      <td>toronto, ontario, canada</td>\n",
       "      <td>30</td>\n",
       "      <td>0002005018</td>\n",
       "      <td>8</td>\n",
       "      <td>Clara Callan</td>\n",
       "      <td>Richard Bruce Wright</td>\n",
       "      <td>2001</td>\n",
       "      <td>HarperFlamingo Canada</td>\n",
       "    </tr>\n",
       "    <tr>\n",
       "      <th>6</th>\n",
       "      <td>85526</td>\n",
       "      <td>victoria, british columbia, canada</td>\n",
       "      <td>36</td>\n",
       "      <td>0002005018</td>\n",
       "      <td>0</td>\n",
       "      <td>Clara Callan</td>\n",
       "      <td>Richard Bruce Wright</td>\n",
       "      <td>2001</td>\n",
       "      <td>HarperFlamingo Canada</td>\n",
       "    </tr>\n",
       "    <tr>\n",
       "      <th>7</th>\n",
       "      <td>96054</td>\n",
       "      <td>ottawa, ontario, canada</td>\n",
       "      <td>29</td>\n",
       "      <td>0002005018</td>\n",
       "      <td>0</td>\n",
       "      <td>Clara Callan</td>\n",
       "      <td>Richard Bruce Wright</td>\n",
       "      <td>2001</td>\n",
       "      <td>HarperFlamingo Canada</td>\n",
       "    </tr>\n",
       "  </tbody>\n",
       "</table>\n",
       "</div>"
      ],
      "text/plain": [
       "  user_id                            location age        isbn rating  \\\n",
       "0       2           stockton, california, usa  18  0195153448      0   \n",
       "2   11400             ottawa, ontario, canada  49  0002005018      0   \n",
       "5   67544            toronto, ontario, canada  30  0002005018      8   \n",
       "6   85526  victoria, british columbia, canada  36  0002005018      0   \n",
       "7   96054             ottawa, ontario, canada  29  0002005018      0   \n",
       "\n",
       "            book_title           book_author year_of_publication  \\\n",
       "0  Classical Mythology    Mark P. O. Morford                2002   \n",
       "2         Clara Callan  Richard Bruce Wright                2001   \n",
       "5         Clara Callan  Richard Bruce Wright                2001   \n",
       "6         Clara Callan  Richard Bruce Wright                2001   \n",
       "7         Clara Callan  Richard Bruce Wright                2001   \n",
       "\n",
       "                 publisher  \n",
       "0  Oxford University Press  \n",
       "2    HarperFlamingo Canada  \n",
       "5    HarperFlamingo Canada  \n",
       "6    HarperFlamingo Canada  \n",
       "7    HarperFlamingo Canada  "
      ]
     },
     "execution_count": 10,
     "metadata": {},
     "output_type": "execute_result"
    }
   ],
   "source": [
    "df = df.dropna()\n",
    "df.drop(['img_s','img_m','img_l'],axis=1,inplace=True)\n",
    "df.head()"
   ]
  },
  {
   "cell_type": "code",
   "execution_count": 11,
   "metadata": {
    "execution": {
     "iopub.execute_input": "2020-09-15T08:06:12.356278Z",
     "iopub.status.busy": "2020-09-15T08:06:12.334052Z",
     "iopub.status.idle": "2020-09-15T08:06:12.626351Z",
     "shell.execute_reply": "2020-09-15T08:06:12.626923Z"
    },
    "papermill": {
     "duration": 0.351979,
     "end_time": "2020-09-15T08:06:12.627125",
     "exception": false,
     "start_time": "2020-09-15T08:06:12.275146",
     "status": "completed"
    },
    "tags": []
   },
   "outputs": [
    {
     "data": {
      "text/html": [
       "<div>\n",
       "<style scoped>\n",
       "    .dataframe tbody tr th:only-of-type {\n",
       "        vertical-align: middle;\n",
       "    }\n",
       "\n",
       "    .dataframe tbody tr th {\n",
       "        vertical-align: top;\n",
       "    }\n",
       "\n",
       "    .dataframe thead th {\n",
       "        text-align: right;\n",
       "    }\n",
       "</style>\n",
       "<table border=\"1\" class=\"dataframe\">\n",
       "  <thead>\n",
       "    <tr style=\"text-align: right;\">\n",
       "      <th></th>\n",
       "      <th>user_id</th>\n",
       "      <th>location</th>\n",
       "      <th>age</th>\n",
       "      <th>isbn</th>\n",
       "      <th>rating</th>\n",
       "      <th>book_title</th>\n",
       "      <th>book_author</th>\n",
       "      <th>year_of_publication</th>\n",
       "      <th>publisher</th>\n",
       "    </tr>\n",
       "  </thead>\n",
       "  <tbody>\n",
       "    <tr>\n",
       "      <th>count</th>\n",
       "      <td>72672</td>\n",
       "      <td>72672</td>\n",
       "      <td>72672</td>\n",
       "      <td>72672</td>\n",
       "      <td>72672</td>\n",
       "      <td>72672</td>\n",
       "      <td>72672</td>\n",
       "      <td>72672</td>\n",
       "      <td>72672</td>\n",
       "    </tr>\n",
       "    <tr>\n",
       "      <th>unique</th>\n",
       "      <td>17389</td>\n",
       "      <td>6992</td>\n",
       "      <td>112</td>\n",
       "      <td>2061</td>\n",
       "      <td>11</td>\n",
       "      <td>1999</td>\n",
       "      <td>1378</td>\n",
       "      <td>50</td>\n",
       "      <td>551</td>\n",
       "    </tr>\n",
       "    <tr>\n",
       "      <th>top</th>\n",
       "      <td>254</td>\n",
       "      <td>toronto, ontario, canada</td>\n",
       "      <td>33</td>\n",
       "      <td>0971880107</td>\n",
       "      <td>0</td>\n",
       "      <td>Wild Animus</td>\n",
       "      <td>Rich Shapero</td>\n",
       "      <td>2002</td>\n",
       "      <td>Ballantine Books</td>\n",
       "    </tr>\n",
       "    <tr>\n",
       "      <th>freq</th>\n",
       "      <td>300</td>\n",
       "      <td>971</td>\n",
       "      <td>3166</td>\n",
       "      <td>2141</td>\n",
       "      <td>43718</td>\n",
       "      <td>2141</td>\n",
       "      <td>2141</td>\n",
       "      <td>9177</td>\n",
       "      <td>4751</td>\n",
       "    </tr>\n",
       "  </tbody>\n",
       "</table>\n",
       "</div>"
      ],
      "text/plain": [
       "       user_id                  location    age        isbn rating  \\\n",
       "count    72672                     72672  72672       72672  72672   \n",
       "unique   17389                      6992    112        2061     11   \n",
       "top        254  toronto, ontario, canada     33  0971880107      0   \n",
       "freq       300                       971   3166        2141  43718   \n",
       "\n",
       "         book_title   book_author year_of_publication         publisher  \n",
       "count         72672         72672               72672             72672  \n",
       "unique         1999          1378                  50               551  \n",
       "top     Wild Animus  Rich Shapero                2002  Ballantine Books  \n",
       "freq           2141          2141                9177              4751  "
      ]
     },
     "execution_count": 11,
     "metadata": {},
     "output_type": "execute_result"
    }
   ],
   "source": [
    "df.describe()"
   ]
  },
  {
   "cell_type": "markdown",
   "metadata": {
    "papermill": {
     "duration": 0.034167,
     "end_time": "2020-09-15T08:06:12.693423",
     "exception": false,
     "start_time": "2020-09-15T08:06:12.659256",
     "status": "completed"
    },
    "tags": []
   },
   "source": [
    "# Changing datatypes"
   ]
  },
  {
   "cell_type": "code",
   "execution_count": 12,
   "metadata": {
    "execution": {
     "iopub.execute_input": "2020-09-15T08:06:12.777413Z",
     "iopub.status.busy": "2020-09-15T08:06:12.776648Z",
     "iopub.status.idle": "2020-09-15T08:06:12.822428Z",
     "shell.execute_reply": "2020-09-15T08:06:12.821680Z"
    },
    "papermill": {
     "duration": 0.096911,
     "end_time": "2020-09-15T08:06:12.822562",
     "exception": false,
     "start_time": "2020-09-15T08:06:12.725651",
     "status": "completed"
    },
    "tags": []
   },
   "outputs": [],
   "source": [
    "df['age'] = df['age'].astype(int)\n",
    "df['user_id'] = df['user_id'].astype(int)\n",
    "df['rating'] = df['rating'].astype(int)"
   ]
  },
  {
   "cell_type": "markdown",
   "metadata": {
    "papermill": {
     "duration": 0.03378,
     "end_time": "2020-09-15T08:06:12.888639",
     "exception": false,
     "start_time": "2020-09-15T08:06:12.854859",
     "status": "completed"
    },
    "tags": []
   },
   "source": [
    "## Splitting location column into newer columns"
   ]
  },
  {
   "cell_type": "code",
   "execution_count": 13,
   "metadata": {
    "execution": {
     "iopub.execute_input": "2020-09-15T08:06:12.979681Z",
     "iopub.status.busy": "2020-09-15T08:06:12.968489Z",
     "iopub.status.idle": "2020-09-15T08:06:13.280546Z",
     "shell.execute_reply": "2020-09-15T08:06:13.281065Z"
    },
    "papermill": {
     "duration": 0.360294,
     "end_time": "2020-09-15T08:06:13.281249",
     "exception": false,
     "start_time": "2020-09-15T08:06:12.920955",
     "status": "completed"
    },
    "tags": []
   },
   "outputs": [],
   "source": [
    "location = df.location.str.split(', ', n=2, expand=True)\n",
    "location.columns=['city', 'state', 'country']\n",
    "\n",
    "df['city'] = location['city']\n",
    "df['state'] = location['state']\n",
    "df['country'] = location['country']"
   ]
  },
  {
   "cell_type": "code",
   "execution_count": 14,
   "metadata": {
    "execution": {
     "iopub.execute_input": "2020-09-15T08:06:13.371409Z",
     "iopub.status.busy": "2020-09-15T08:06:13.370346Z",
     "iopub.status.idle": "2020-09-15T08:06:13.376542Z",
     "shell.execute_reply": "2020-09-15T08:06:13.375886Z"
    },
    "papermill": {
     "duration": 0.062683,
     "end_time": "2020-09-15T08:06:13.376693",
     "exception": false,
     "start_time": "2020-09-15T08:06:13.314010",
     "status": "completed"
    },
    "tags": []
   },
   "outputs": [
    {
     "data": {
      "text/html": [
       "<div>\n",
       "<style scoped>\n",
       "    .dataframe tbody tr th:only-of-type {\n",
       "        vertical-align: middle;\n",
       "    }\n",
       "\n",
       "    .dataframe tbody tr th {\n",
       "        vertical-align: top;\n",
       "    }\n",
       "\n",
       "    .dataframe thead th {\n",
       "        text-align: right;\n",
       "    }\n",
       "</style>\n",
       "<table border=\"1\" class=\"dataframe\">\n",
       "  <thead>\n",
       "    <tr style=\"text-align: right;\">\n",
       "      <th></th>\n",
       "      <th>user_id</th>\n",
       "      <th>location</th>\n",
       "      <th>age</th>\n",
       "      <th>isbn</th>\n",
       "      <th>rating</th>\n",
       "      <th>book_title</th>\n",
       "      <th>book_author</th>\n",
       "      <th>year_of_publication</th>\n",
       "      <th>publisher</th>\n",
       "      <th>city</th>\n",
       "      <th>state</th>\n",
       "      <th>country</th>\n",
       "    </tr>\n",
       "  </thead>\n",
       "  <tbody>\n",
       "    <tr>\n",
       "      <th>0</th>\n",
       "      <td>2</td>\n",
       "      <td>stockton, california, usa</td>\n",
       "      <td>18</td>\n",
       "      <td>0195153448</td>\n",
       "      <td>0</td>\n",
       "      <td>Classical Mythology</td>\n",
       "      <td>Mark P. O. Morford</td>\n",
       "      <td>2002</td>\n",
       "      <td>Oxford University Press</td>\n",
       "      <td>stockton</td>\n",
       "      <td>california</td>\n",
       "      <td>usa</td>\n",
       "    </tr>\n",
       "    <tr>\n",
       "      <th>2</th>\n",
       "      <td>11400</td>\n",
       "      <td>ottawa, ontario, canada</td>\n",
       "      <td>49</td>\n",
       "      <td>0002005018</td>\n",
       "      <td>0</td>\n",
       "      <td>Clara Callan</td>\n",
       "      <td>Richard Bruce Wright</td>\n",
       "      <td>2001</td>\n",
       "      <td>HarperFlamingo Canada</td>\n",
       "      <td>ottawa</td>\n",
       "      <td>ontario</td>\n",
       "      <td>canada</td>\n",
       "    </tr>\n",
       "    <tr>\n",
       "      <th>5</th>\n",
       "      <td>67544</td>\n",
       "      <td>toronto, ontario, canada</td>\n",
       "      <td>30</td>\n",
       "      <td>0002005018</td>\n",
       "      <td>8</td>\n",
       "      <td>Clara Callan</td>\n",
       "      <td>Richard Bruce Wright</td>\n",
       "      <td>2001</td>\n",
       "      <td>HarperFlamingo Canada</td>\n",
       "      <td>toronto</td>\n",
       "      <td>ontario</td>\n",
       "      <td>canada</td>\n",
       "    </tr>\n",
       "    <tr>\n",
       "      <th>6</th>\n",
       "      <td>85526</td>\n",
       "      <td>victoria, british columbia, canada</td>\n",
       "      <td>36</td>\n",
       "      <td>0002005018</td>\n",
       "      <td>0</td>\n",
       "      <td>Clara Callan</td>\n",
       "      <td>Richard Bruce Wright</td>\n",
       "      <td>2001</td>\n",
       "      <td>HarperFlamingo Canada</td>\n",
       "      <td>victoria</td>\n",
       "      <td>british columbia</td>\n",
       "      <td>canada</td>\n",
       "    </tr>\n",
       "    <tr>\n",
       "      <th>7</th>\n",
       "      <td>96054</td>\n",
       "      <td>ottawa, ontario, canada</td>\n",
       "      <td>29</td>\n",
       "      <td>0002005018</td>\n",
       "      <td>0</td>\n",
       "      <td>Clara Callan</td>\n",
       "      <td>Richard Bruce Wright</td>\n",
       "      <td>2001</td>\n",
       "      <td>HarperFlamingo Canada</td>\n",
       "      <td>ottawa</td>\n",
       "      <td>ontario</td>\n",
       "      <td>canada</td>\n",
       "    </tr>\n",
       "  </tbody>\n",
       "</table>\n",
       "</div>"
      ],
      "text/plain": [
       "   user_id                            location  age        isbn  rating  \\\n",
       "0        2           stockton, california, usa   18  0195153448       0   \n",
       "2    11400             ottawa, ontario, canada   49  0002005018       0   \n",
       "5    67544            toronto, ontario, canada   30  0002005018       8   \n",
       "6    85526  victoria, british columbia, canada   36  0002005018       0   \n",
       "7    96054             ottawa, ontario, canada   29  0002005018       0   \n",
       "\n",
       "            book_title           book_author year_of_publication  \\\n",
       "0  Classical Mythology    Mark P. O. Morford                2002   \n",
       "2         Clara Callan  Richard Bruce Wright                2001   \n",
       "5         Clara Callan  Richard Bruce Wright                2001   \n",
       "6         Clara Callan  Richard Bruce Wright                2001   \n",
       "7         Clara Callan  Richard Bruce Wright                2001   \n",
       "\n",
       "                 publisher      city             state country  \n",
       "0  Oxford University Press  stockton        california     usa  \n",
       "2    HarperFlamingo Canada    ottawa           ontario  canada  \n",
       "5    HarperFlamingo Canada   toronto           ontario  canada  \n",
       "6    HarperFlamingo Canada  victoria  british columbia  canada  \n",
       "7    HarperFlamingo Canada    ottawa           ontario  canada  "
      ]
     },
     "execution_count": 14,
     "metadata": {},
     "output_type": "execute_result"
    }
   ],
   "source": [
    "df.head(5)"
   ]
  },
  {
   "cell_type": "code",
   "execution_count": 15,
   "metadata": {
    "execution": {
     "iopub.execute_input": "2020-09-15T08:06:13.508550Z",
     "iopub.status.busy": "2020-09-15T08:06:13.500009Z",
     "iopub.status.idle": "2020-09-15T08:06:13.538426Z",
     "shell.execute_reply": "2020-09-15T08:06:13.537802Z"
    },
    "papermill": {
     "duration": 0.129023,
     "end_time": "2020-09-15T08:06:13.538552",
     "exception": false,
     "start_time": "2020-09-15T08:06:13.409529",
     "status": "completed"
    },
    "tags": []
   },
   "outputs": [
    {
     "data": {
      "text/plain": [
       "user_id                   0\n",
       "location                  0\n",
       "age                       0\n",
       "isbn                      0\n",
       "rating                    0\n",
       "book_title                0\n",
       "book_author               0\n",
       "year_of_publication       0\n",
       "publisher                 0\n",
       "city                      0\n",
       "state                     0\n",
       "country                1278\n",
       "dtype: int64"
      ]
     },
     "execution_count": 15,
     "metadata": {},
     "output_type": "execute_result"
    }
   ],
   "source": [
    "df.isna().sum()"
   ]
  },
  {
   "cell_type": "markdown",
   "metadata": {
    "papermill": {
     "duration": 0.033524,
     "end_time": "2020-09-15T08:06:13.605835",
     "exception": false,
     "start_time": "2020-09-15T08:06:13.572311",
     "status": "completed"
    },
    "tags": []
   },
   "source": [
    "Lets see which books got highest ratings. As we can see here these 5 books from top got 10/10 rating. Bit suspicious, it is possible that only one user read it and rate it as 10."
   ]
  },
  {
   "cell_type": "code",
   "execution_count": 16,
   "metadata": {
    "execution": {
     "iopub.execute_input": "2020-09-15T08:06:13.683964Z",
     "iopub.status.busy": "2020-09-15T08:06:13.680487Z",
     "iopub.status.idle": "2020-09-15T08:06:13.703974Z",
     "shell.execute_reply": "2020-09-15T08:06:13.703241Z"
    },
    "papermill": {
     "duration": 0.065051,
     "end_time": "2020-09-15T08:06:13.704099",
     "exception": false,
     "start_time": "2020-09-15T08:06:13.639048",
     "status": "completed"
    },
    "tags": []
   },
   "outputs": [
    {
     "data": {
      "text/plain": [
       "book_title\n",
       "The Canopy                                       10.0\n",
       "Humphrey's Corner                                10.0\n",
       "Die Mechanismen der Freude. ErzÃ?Â¤hlungen.      10.0\n",
       "Die Mars- Chroniken. Roman in ErzÃ?Â¤hlungen.    10.0\n",
       "A polar bear called Pingo                        10.0\n",
       "Name: rating, dtype: float64"
      ]
     },
     "execution_count": 16,
     "metadata": {},
     "output_type": "execute_result"
    }
   ],
   "source": [
    "df.groupby('book_title')['rating'].mean().sort_values(ascending=False).head(5)"
   ]
  },
  {
   "cell_type": "markdown",
   "metadata": {
    "papermill": {
     "duration": 0.034148,
     "end_time": "2020-09-15T08:06:13.772496",
     "exception": false,
     "start_time": "2020-09-15T08:06:13.738348",
     "status": "completed"
    },
    "tags": []
   },
   "source": [
    "So now we use the count() function to see the number of user that rated the books. In this we can see 'Wild Animus' has the most users rated to it."
   ]
  },
  {
   "cell_type": "code",
   "execution_count": 17,
   "metadata": {
    "execution": {
     "iopub.execute_input": "2020-09-15T08:06:13.852628Z",
     "iopub.status.busy": "2020-09-15T08:06:13.851926Z",
     "iopub.status.idle": "2020-09-15T08:06:13.868296Z",
     "shell.execute_reply": "2020-09-15T08:06:13.867759Z"
    },
    "papermill": {
     "duration": 0.061769,
     "end_time": "2020-09-15T08:06:13.868426",
     "exception": false,
     "start_time": "2020-09-15T08:06:13.806657",
     "status": "completed"
    },
    "tags": []
   },
   "outputs": [
    {
     "data": {
      "text/plain": [
       "book_title\n",
       "Wild Animus                                        2141\n",
       "The Lovely Bones: A Novel                           920\n",
       "The Da Vinci Code                                   695\n",
       "Angels &amp; Demons                                 542\n",
       "Divine Secrets of the Ya-Ya Sisterhood: A Novel     509\n",
       "Name: rating, dtype: int64"
      ]
     },
     "execution_count": 17,
     "metadata": {},
     "output_type": "execute_result"
    }
   ],
   "source": [
    "df.groupby('book_title')['rating'].count().sort_values(ascending=False).head(5)"
   ]
  },
  {
   "cell_type": "code",
   "execution_count": 18,
   "metadata": {
    "execution": {
     "iopub.execute_input": "2020-09-15T08:06:13.943495Z",
     "iopub.status.busy": "2020-09-15T08:06:13.942874Z",
     "iopub.status.idle": "2020-09-15T08:06:14.007644Z",
     "shell.execute_reply": "2020-09-15T08:06:14.007066Z"
    },
    "papermill": {
     "duration": 0.103732,
     "end_time": "2020-09-15T08:06:14.007783",
     "exception": false,
     "start_time": "2020-09-15T08:06:13.904051",
     "status": "completed"
    },
    "tags": []
   },
   "outputs": [
    {
     "data": {
      "text/html": [
       "<div>\n",
       "<style scoped>\n",
       "    .dataframe tbody tr th:only-of-type {\n",
       "        vertical-align: middle;\n",
       "    }\n",
       "\n",
       "    .dataframe tbody tr th {\n",
       "        vertical-align: top;\n",
       "    }\n",
       "\n",
       "    .dataframe thead th {\n",
       "        text-align: right;\n",
       "    }\n",
       "</style>\n",
       "<table border=\"1\" class=\"dataframe\">\n",
       "  <thead>\n",
       "    <tr style=\"text-align: right;\">\n",
       "      <th></th>\n",
       "      <th>rating</th>\n",
       "    </tr>\n",
       "    <tr>\n",
       "      <th>book_title</th>\n",
       "      <th></th>\n",
       "    </tr>\n",
       "  </thead>\n",
       "  <tbody>\n",
       "    <tr>\n",
       "      <th>101 Dalmatians</th>\n",
       "      <td>3.294118</td>\n",
       "    </tr>\n",
       "    <tr>\n",
       "      <th>14,000 Things to Be Happy About</th>\n",
       "      <td>3.681818</td>\n",
       "    </tr>\n",
       "    <tr>\n",
       "      <th>1984</th>\n",
       "      <td>5.025806</td>\n",
       "    </tr>\n",
       "    <tr>\n",
       "      <th>1st to Die: A Novel</th>\n",
       "      <td>3.837500</td>\n",
       "    </tr>\n",
       "    <tr>\n",
       "      <th>2061: Odyssey Three</th>\n",
       "      <td>3.593750</td>\n",
       "    </tr>\n",
       "  </tbody>\n",
       "</table>\n",
       "</div>"
      ],
      "text/plain": [
       "                                   rating\n",
       "book_title                               \n",
       "101 Dalmatians                   3.294118\n",
       "14,000 Things to Be Happy About  3.681818\n",
       "1984                             5.025806\n",
       "1st to Die: A Novel              3.837500\n",
       "2061: Odyssey Three              3.593750"
      ]
     },
     "execution_count": 18,
     "metadata": {},
     "output_type": "execute_result"
    }
   ],
   "source": [
    "ratings = pd.DataFrame(df.groupby('book_title')['rating'].mean())\n",
    "ratings.head(5)"
   ]
  },
  {
   "cell_type": "code",
   "execution_count": 19,
   "metadata": {
    "execution": {
     "iopub.execute_input": "2020-09-15T08:06:14.091129Z",
     "iopub.status.busy": "2020-09-15T08:06:14.090415Z",
     "iopub.status.idle": "2020-09-15T08:06:14.110420Z",
     "shell.execute_reply": "2020-09-15T08:06:14.110980Z"
    },
    "papermill": {
     "duration": 0.06749,
     "end_time": "2020-09-15T08:06:14.111127",
     "exception": false,
     "start_time": "2020-09-15T08:06:14.043637",
     "status": "completed"
    },
    "tags": []
   },
   "outputs": [
    {
     "data": {
      "text/html": [
       "<div>\n",
       "<style scoped>\n",
       "    .dataframe tbody tr th:only-of-type {\n",
       "        vertical-align: middle;\n",
       "    }\n",
       "\n",
       "    .dataframe tbody tr th {\n",
       "        vertical-align: top;\n",
       "    }\n",
       "\n",
       "    .dataframe thead th {\n",
       "        text-align: right;\n",
       "    }\n",
       "</style>\n",
       "<table border=\"1\" class=\"dataframe\">\n",
       "  <thead>\n",
       "    <tr style=\"text-align: right;\">\n",
       "      <th></th>\n",
       "      <th>rating</th>\n",
       "      <th>num of ratings</th>\n",
       "    </tr>\n",
       "    <tr>\n",
       "      <th>book_title</th>\n",
       "      <th></th>\n",
       "      <th></th>\n",
       "    </tr>\n",
       "  </thead>\n",
       "  <tbody>\n",
       "    <tr>\n",
       "      <th>101 Dalmatians</th>\n",
       "      <td>3.294118</td>\n",
       "      <td>17</td>\n",
       "    </tr>\n",
       "    <tr>\n",
       "      <th>14,000 Things to Be Happy About</th>\n",
       "      <td>3.681818</td>\n",
       "      <td>22</td>\n",
       "    </tr>\n",
       "    <tr>\n",
       "      <th>1984</th>\n",
       "      <td>5.025806</td>\n",
       "      <td>155</td>\n",
       "    </tr>\n",
       "    <tr>\n",
       "      <th>1st to Die: A Novel</th>\n",
       "      <td>3.837500</td>\n",
       "      <td>80</td>\n",
       "    </tr>\n",
       "    <tr>\n",
       "      <th>2061: Odyssey Three</th>\n",
       "      <td>3.593750</td>\n",
       "      <td>32</td>\n",
       "    </tr>\n",
       "  </tbody>\n",
       "</table>\n",
       "</div>"
      ],
      "text/plain": [
       "                                   rating  num of ratings\n",
       "book_title                                               \n",
       "101 Dalmatians                   3.294118              17\n",
       "14,000 Things to Be Happy About  3.681818              22\n",
       "1984                             5.025806             155\n",
       "1st to Die: A Novel              3.837500              80\n",
       "2061: Odyssey Three              3.593750              32"
      ]
     },
     "execution_count": 19,
     "metadata": {},
     "output_type": "execute_result"
    }
   ],
   "source": [
    "ratings['num of ratings'] = pd.DataFrame(df.groupby('book_title')['rating'].count())\n",
    "ratings.head(5)"
   ]
  },
  {
   "cell_type": "code",
   "execution_count": 20,
   "metadata": {
    "execution": {
     "iopub.execute_input": "2020-09-15T08:06:14.186541Z",
     "iopub.status.busy": "2020-09-15T08:06:14.185929Z",
     "iopub.status.idle": "2020-09-15T08:06:14.581478Z",
     "shell.execute_reply": "2020-09-15T08:06:14.582407Z"
    },
    "papermill": {
     "duration": 0.435291,
     "end_time": "2020-09-15T08:06:14.582681",
     "exception": false,
     "start_time": "2020-09-15T08:06:14.147390",
     "status": "completed"
    },
    "tags": []
   },
   "outputs": [
    {
     "data": {
      "text/plain": [
       "<matplotlib.axes._subplots.AxesSubplot at 0x7f0a47e21490>"
      ]
     },
     "execution_count": 20,
     "metadata": {},
     "output_type": "execute_result"
    },
    {
     "data": {
      "image/png": "[encoded data removed]",
      "text/plain": [
       "<Figure size 432x288 with 1 Axes>"
      ]
     },
     "metadata": {
      "needs_background": "light"
     },
     "output_type": "display_data"
    }
   ],
   "source": [
    "ratings['num of ratings'].hist(bins=80)"
   ]
  },
  {
   "cell_type": "code",
   "execution_count": 21,
   "metadata": {
    "execution": {
     "iopub.execute_input": "2020-09-15T08:06:14.667419Z",
     "iopub.status.busy": "2020-09-15T08:06:14.666389Z",
     "iopub.status.idle": "2020-09-15T08:06:14.955053Z",
     "shell.execute_reply": "2020-09-15T08:06:14.955545Z"
    },
    "papermill": {
     "duration": 0.331565,
     "end_time": "2020-09-15T08:06:14.955756",
     "exception": false,
     "start_time": "2020-09-15T08:06:14.624191",
     "status": "completed"
    },
    "tags": []
   },
   "outputs": [
    {
     "data": {
      "text/plain": [
       "<matplotlib.axes._subplots.AxesSubplot at 0x7f0a47e57210>"
      ]
     },
     "execution_count": 21,
     "metadata": {},
     "output_type": "execute_result"
    },
    {
     "data": {
      "image/png": "[encoded data removed]",
      "text/plain": [
       "<Figure size 432x288 with 1 Axes>"
      ]
     },
     "metadata": {
      "needs_background": "light"
     },
     "output_type": "display_data"
    }
   ],
   "source": [
    "ratings['rating'].hist(bins=70)"
   ]
  },
  {
   "cell_type": "code",
   "execution_count": 22,
   "metadata": {
    "execution": {
     "iopub.execute_input": "2020-09-15T08:06:15.037397Z",
     "iopub.status.busy": "2020-09-15T08:06:15.036349Z",
     "iopub.status.idle": "2020-09-15T08:06:15.891800Z",
     "shell.execute_reply": "2020-09-15T08:06:15.891246Z"
    },
    "papermill": {
     "duration": 0.898087,
     "end_time": "2020-09-15T08:06:15.891928",
     "exception": false,
     "start_time": "2020-09-15T08:06:14.993841",
     "status": "completed"
    },
    "tags": []
   },
   "outputs": [
    {
     "data": {
      "text/plain": [
       "<seaborn.axisgrid.JointGrid at 0x7f0a47e337d0>"
      ]
     },
     "execution_count": 22,
     "metadata": {},
     "output_type": "execute_result"
    },
    {
     "data": {
      "image/png": "[encoded data removed]",
      "text/plain": [
       "<Figure size 432x432 with 3 Axes>"
      ]
     },
     "metadata": {
      "needs_background": "light"
     },
     "output_type": "display_data"
    }
   ],
   "source": [
    "sns.jointplot(x='rating',y='num of ratings',data=ratings,alpha=0.5)"
   ]
  },
  {
   "cell_type": "code",
   "execution_count": 23,
   "metadata": {
    "execution": {
     "iopub.execute_input": "2020-09-15T08:06:15.994218Z",
     "iopub.status.busy": "2020-09-15T08:06:15.993473Z",
     "iopub.status.idle": "2020-09-15T08:06:16.002078Z",
     "shell.execute_reply": "2020-09-15T08:06:16.001180Z"
    },
    "papermill": {
     "duration": 0.070185,
     "end_time": "2020-09-15T08:06:16.002215",
     "exception": false,
     "start_time": "2020-09-15T08:06:15.932030",
     "status": "completed"
    },
    "tags": []
   },
   "outputs": [
    {
     "data": {
      "text/html": [
       "<div>\n",
       "<style scoped>\n",
       "    .dataframe tbody tr th:only-of-type {\n",
       "        vertical-align: middle;\n",
       "    }\n",
       "\n",
       "    .dataframe tbody tr th {\n",
       "        vertical-align: top;\n",
       "    }\n",
       "\n",
       "    .dataframe thead th {\n",
       "        text-align: right;\n",
       "    }\n",
       "</style>\n",
       "<table border=\"1\" class=\"dataframe\">\n",
       "  <thead>\n",
       "    <tr style=\"text-align: right;\">\n",
       "      <th></th>\n",
       "      <th>user_id</th>\n",
       "      <th>location</th>\n",
       "      <th>age</th>\n",
       "      <th>isbn</th>\n",
       "      <th>rating</th>\n",
       "      <th>book_title</th>\n",
       "      <th>book_author</th>\n",
       "      <th>year_of_publication</th>\n",
       "      <th>publisher</th>\n",
       "      <th>city</th>\n",
       "      <th>state</th>\n",
       "      <th>country</th>\n",
       "    </tr>\n",
       "  </thead>\n",
       "  <tbody>\n",
       "    <tr>\n",
       "      <th>0</th>\n",
       "      <td>2</td>\n",
       "      <td>stockton, california, usa</td>\n",
       "      <td>18</td>\n",
       "      <td>0195153448</td>\n",
       "      <td>0</td>\n",
       "      <td>Classical Mythology</td>\n",
       "      <td>Mark P. O. Morford</td>\n",
       "      <td>2002</td>\n",
       "      <td>Oxford University Press</td>\n",
       "      <td>stockton</td>\n",
       "      <td>california</td>\n",
       "      <td>usa</td>\n",
       "    </tr>\n",
       "    <tr>\n",
       "      <th>2</th>\n",
       "      <td>11400</td>\n",
       "      <td>ottawa, ontario, canada</td>\n",
       "      <td>49</td>\n",
       "      <td>0002005018</td>\n",
       "      <td>0</td>\n",
       "      <td>Clara Callan</td>\n",
       "      <td>Richard Bruce Wright</td>\n",
       "      <td>2001</td>\n",
       "      <td>HarperFlamingo Canada</td>\n",
       "      <td>ottawa</td>\n",
       "      <td>ontario</td>\n",
       "      <td>canada</td>\n",
       "    </tr>\n",
       "    <tr>\n",
       "      <th>5</th>\n",
       "      <td>67544</td>\n",
       "      <td>toronto, ontario, canada</td>\n",
       "      <td>30</td>\n",
       "      <td>0002005018</td>\n",
       "      <td>8</td>\n",
       "      <td>Clara Callan</td>\n",
       "      <td>Richard Bruce Wright</td>\n",
       "      <td>2001</td>\n",
       "      <td>HarperFlamingo Canada</td>\n",
       "      <td>toronto</td>\n",
       "      <td>ontario</td>\n",
       "      <td>canada</td>\n",
       "    </tr>\n",
       "    <tr>\n",
       "      <th>6</th>\n",
       "      <td>85526</td>\n",
       "      <td>victoria, british columbia, canada</td>\n",
       "      <td>36</td>\n",
       "      <td>0002005018</td>\n",
       "      <td>0</td>\n",
       "      <td>Clara Callan</td>\n",
       "      <td>Richard Bruce Wright</td>\n",
       "      <td>2001</td>\n",
       "      <td>HarperFlamingo Canada</td>\n",
       "      <td>victoria</td>\n",
       "      <td>british columbia</td>\n",
       "      <td>canada</td>\n",
       "    </tr>\n",
       "    <tr>\n",
       "      <th>7</th>\n",
       "      <td>96054</td>\n",
       "      <td>ottawa, ontario, canada</td>\n",
       "      <td>29</td>\n",
       "      <td>0002005018</td>\n",
       "      <td>0</td>\n",
       "      <td>Clara Callan</td>\n",
       "      <td>Richard Bruce Wright</td>\n",
       "      <td>2001</td>\n",
       "      <td>HarperFlamingo Canada</td>\n",
       "      <td>ottawa</td>\n",
       "      <td>ontario</td>\n",
       "      <td>canada</td>\n",
       "    </tr>\n",
       "    <tr>\n",
       "      <th>10</th>\n",
       "      <td>177458</td>\n",
       "      <td>ottawa, ontario, canada</td>\n",
       "      <td>29</td>\n",
       "      <td>0002005018</td>\n",
       "      <td>0</td>\n",
       "      <td>Clara Callan</td>\n",
       "      <td>Richard Bruce Wright</td>\n",
       "      <td>2001</td>\n",
       "      <td>HarperFlamingo Canada</td>\n",
       "      <td>ottawa</td>\n",
       "      <td>ontario</td>\n",
       "      <td>canada</td>\n",
       "    </tr>\n",
       "    <tr>\n",
       "      <th>13</th>\n",
       "      <td>219008</td>\n",
       "      <td>halifax, nova scotia, canada</td>\n",
       "      <td>60</td>\n",
       "      <td>0002005018</td>\n",
       "      <td>7</td>\n",
       "      <td>Clara Callan</td>\n",
       "      <td>Richard Bruce Wright</td>\n",
       "      <td>2001</td>\n",
       "      <td>HarperFlamingo Canada</td>\n",
       "      <td>halifax</td>\n",
       "      <td>nova scotia</td>\n",
       "      <td>canada</td>\n",
       "    </tr>\n",
       "    <tr>\n",
       "      <th>14</th>\n",
       "      <td>263325</td>\n",
       "      <td>fredericton, new brunswick, canada</td>\n",
       "      <td>27</td>\n",
       "      <td>0002005018</td>\n",
       "      <td>6</td>\n",
       "      <td>Clara Callan</td>\n",
       "      <td>Richard Bruce Wright</td>\n",
       "      <td>2001</td>\n",
       "      <td>HarperFlamingo Canada</td>\n",
       "      <td>fredericton</td>\n",
       "      <td>new brunswick</td>\n",
       "      <td>canada</td>\n",
       "    </tr>\n",
       "    <tr>\n",
       "      <th>16</th>\n",
       "      <td>2954</td>\n",
       "      <td>wichita, kansas, usa</td>\n",
       "      <td>71</td>\n",
       "      <td>0060973129</td>\n",
       "      <td>8</td>\n",
       "      <td>Decision in Normandy</td>\n",
       "      <td>Carlo D'Este</td>\n",
       "      <td>1991</td>\n",
       "      <td>HarperPerennial</td>\n",
       "      <td>wichita</td>\n",
       "      <td>kansas</td>\n",
       "      <td>usa</td>\n",
       "    </tr>\n",
       "    <tr>\n",
       "      <th>17</th>\n",
       "      <td>152827</td>\n",
       "      <td>ottawa, ontario, canada</td>\n",
       "      <td>40</td>\n",
       "      <td>0060973129</td>\n",
       "      <td>7</td>\n",
       "      <td>Decision in Normandy</td>\n",
       "      <td>Carlo D'Este</td>\n",
       "      <td>1991</td>\n",
       "      <td>HarperPerennial</td>\n",
       "      <td>ottawa</td>\n",
       "      <td>ontario</td>\n",
       "      <td>canada</td>\n",
       "    </tr>\n",
       "  </tbody>\n",
       "</table>\n",
       "</div>"
      ],
      "text/plain": [
       "    user_id                            location  age        isbn  rating  \\\n",
       "0         2           stockton, california, usa   18  0195153448       0   \n",
       "2     11400             ottawa, ontario, canada   49  0002005018       0   \n",
       "5     67544            toronto, ontario, canada   30  0002005018       8   \n",
       "6     85526  victoria, british columbia, canada   36  0002005018       0   \n",
       "7     96054             ottawa, ontario, canada   29  0002005018       0   \n",
       "10   177458             ottawa, ontario, canada   29  0002005018       0   \n",
       "13   219008        halifax, nova scotia, canada   60  0002005018       7   \n",
       "14   263325  fredericton, new brunswick, canada   27  0002005018       6   \n",
       "16     2954                wichita, kansas, usa   71  0060973129       8   \n",
       "17   152827             ottawa, ontario, canada   40  0060973129       7   \n",
       "\n",
       "              book_title           book_author year_of_publication  \\\n",
       "0    Classical Mythology    Mark P. O. Morford                2002   \n",
       "2           Clara Callan  Richard Bruce Wright                2001   \n",
       "5           Clara Callan  Richard Bruce Wright                2001   \n",
       "6           Clara Callan  Richard Bruce Wright                2001   \n",
       "7           Clara Callan  Richard Bruce Wright                2001   \n",
       "10          Clara Callan  Richard Bruce Wright                2001   \n",
       "13          Clara Callan  Richard Bruce Wright                2001   \n",
       "14          Clara Callan  Richard Bruce Wright                2001   \n",
       "16  Decision in Normandy          Carlo D'Este                1991   \n",
       "17  Decision in Normandy          Carlo D'Este                1991   \n",
       "\n",
       "                  publisher         city             state country  \n",
       "0   Oxford University Press     stockton        california     usa  \n",
       "2     HarperFlamingo Canada       ottawa           ontario  canada  \n",
       "5     HarperFlamingo Canada      toronto           ontario  canada  \n",
       "6     HarperFlamingo Canada     victoria  british columbia  canada  \n",
       "7     HarperFlamingo Canada       ottawa           ontario  canada  \n",
       "10    HarperFlamingo Canada       ottawa           ontario  canada  \n",
       "13    HarperFlamingo Canada      halifax       nova scotia  canada  \n",
       "14    HarperFlamingo Canada  fredericton     new brunswick  canada  \n",
       "16          HarperPerennial      wichita            kansas     usa  \n",
       "17          HarperPerennial       ottawa           ontario  canada  "
      ]
     },
     "execution_count": 23,
     "metadata": {},
     "output_type": "execute_result"
    }
   ],
   "source": [
    "df.head(10)"
   ]
  },
  {
   "cell_type": "markdown",
   "metadata": {
    "papermill": {
     "duration": 0.039994,
     "end_time": "2020-09-15T08:06:16.083488",
     "exception": false,
     "start_time": "2020-09-15T08:06:16.043494",
     "status": "completed"
    },
    "tags": []
   },
   "source": [
    "### We now create a pivot table. From this table we use the same users who rated for different books. This is collaborative filtering based recommendation system(similarity between users). "
   ]
  },
  {
   "cell_type": "code",
   "execution_count": 24,
   "metadata": {
    "execution": {
     "iopub.execute_input": "2020-09-15T08:06:16.174910Z",
     "iopub.status.busy": "2020-09-15T08:06:16.174183Z",
     "iopub.status.idle": "2020-09-15T08:06:17.452674Z",
     "shell.execute_reply": "2020-09-15T08:06:17.452108Z"
    },
    "papermill": {
     "duration": 1.327782,
     "end_time": "2020-09-15T08:06:17.452791",
     "exception": false,
     "start_time": "2020-09-15T08:06:16.125009",
     "status": "completed"
    },
    "tags": []
   },
   "outputs": [
    {
     "data": {
      "text/html": [
       "<div>\n",
       "<style scoped>\n",
       "    .dataframe tbody tr th:only-of-type {\n",
       "        vertical-align: middle;\n",
       "    }\n",
       "\n",
       "    .dataframe tbody tr th {\n",
       "        vertical-align: top;\n",
       "    }\n",
       "\n",
       "    .dataframe thead th {\n",
       "        text-align: right;\n",
       "    }\n",
       "</style>\n",
       "<table border=\"1\" class=\"dataframe\">\n",
       "  <thead>\n",
       "    <tr style=\"text-align: right;\">\n",
       "      <th>book_title</th>\n",
       "      <th>101 Dalmatians</th>\n",
       "      <th>14,000 Things to Be Happy About</th>\n",
       "      <th>1984</th>\n",
       "      <th>1st to Die: A Novel</th>\n",
       "      <th>2061: Odyssey Three</th>\n",
       "      <th>28 Barbary Lane : A \\Tales of the City\\\" Omnibus\"</th>\n",
       "      <th>2nd Chance</th>\n",
       "      <th>40 Tons Of Trouble (Women Who Dare) (Harlequin Super Romance, No 726)</th>\n",
       "      <th>7b</th>\n",
       "      <th>8 Weeks to Optimum Health</th>\n",
       "      <th>...</th>\n",
       "      <th>Yarrow</th>\n",
       "      <th>Year's Best Fantasy (Year's Best Fantasy)</th>\n",
       "      <th>You Be the Jury #02</th>\n",
       "      <th>You Can Surf the Net: Your Guide to the World of the Internet</th>\n",
       "      <th>You Cannot Be Serious</th>\n",
       "      <th>Your Erroneous Zones</th>\n",
       "      <th>Zeit im Wind.</th>\n",
       "      <th>Zlateh the Goat and Other Stories</th>\n",
       "      <th>Zodiac: The Eco-Thriller</th>\n",
       "      <th>stardust</th>\n",
       "    </tr>\n",
       "    <tr>\n",
       "      <th>user_id</th>\n",
       "      <th></th>\n",
       "      <th></th>\n",
       "      <th></th>\n",
       "      <th></th>\n",
       "      <th></th>\n",
       "      <th></th>\n",
       "      <th></th>\n",
       "      <th></th>\n",
       "      <th></th>\n",
       "      <th></th>\n",
       "      <th></th>\n",
       "      <th></th>\n",
       "      <th></th>\n",
       "      <th></th>\n",
       "      <th></th>\n",
       "      <th></th>\n",
       "      <th></th>\n",
       "      <th></th>\n",
       "      <th></th>\n",
       "      <th></th>\n",
       "      <th></th>\n",
       "    </tr>\n",
       "  </thead>\n",
       "  <tbody>\n",
       "    <tr>\n",
       "      <th>2</th>\n",
       "      <td>0.0</td>\n",
       "      <td>0.0</td>\n",
       "      <td>0.0</td>\n",
       "      <td>0.0</td>\n",
       "      <td>0.0</td>\n",
       "      <td>0.0</td>\n",
       "      <td>0.0</td>\n",
       "      <td>0.0</td>\n",
       "      <td>0.0</td>\n",
       "      <td>0.0</td>\n",
       "      <td>...</td>\n",
       "      <td>0.0</td>\n",
       "      <td>0.0</td>\n",
       "      <td>0.0</td>\n",
       "      <td>0.0</td>\n",
       "      <td>0.0</td>\n",
       "      <td>0.0</td>\n",
       "      <td>0.0</td>\n",
       "      <td>0.0</td>\n",
       "      <td>0.0</td>\n",
       "      <td>0.0</td>\n",
       "    </tr>\n",
       "    <tr>\n",
       "      <th>10</th>\n",
       "      <td>0.0</td>\n",
       "      <td>0.0</td>\n",
       "      <td>0.0</td>\n",
       "      <td>0.0</td>\n",
       "      <td>0.0</td>\n",
       "      <td>0.0</td>\n",
       "      <td>0.0</td>\n",
       "      <td>0.0</td>\n",
       "      <td>0.0</td>\n",
       "      <td>0.0</td>\n",
       "      <td>...</td>\n",
       "      <td>0.0</td>\n",
       "      <td>0.0</td>\n",
       "      <td>0.0</td>\n",
       "      <td>0.0</td>\n",
       "      <td>0.0</td>\n",
       "      <td>0.0</td>\n",
       "      <td>0.0</td>\n",
       "      <td>0.0</td>\n",
       "      <td>0.0</td>\n",
       "      <td>0.0</td>\n",
       "    </tr>\n",
       "    <tr>\n",
       "      <th>19</th>\n",
       "      <td>0.0</td>\n",
       "      <td>0.0</td>\n",
       "      <td>0.0</td>\n",
       "      <td>0.0</td>\n",
       "      <td>0.0</td>\n",
       "      <td>0.0</td>\n",
       "      <td>0.0</td>\n",
       "      <td>0.0</td>\n",
       "      <td>0.0</td>\n",
       "      <td>0.0</td>\n",
       "      <td>...</td>\n",
       "      <td>0.0</td>\n",
       "      <td>0.0</td>\n",
       "      <td>0.0</td>\n",
       "      <td>0.0</td>\n",
       "      <td>0.0</td>\n",
       "      <td>0.0</td>\n",
       "      <td>0.0</td>\n",
       "      <td>0.0</td>\n",
       "      <td>0.0</td>\n",
       "      <td>0.0</td>\n",
       "    </tr>\n",
       "    <tr>\n",
       "      <th>20</th>\n",
       "      <td>0.0</td>\n",
       "      <td>0.0</td>\n",
       "      <td>0.0</td>\n",
       "      <td>0.0</td>\n",
       "      <td>0.0</td>\n",
       "      <td>0.0</td>\n",
       "      <td>0.0</td>\n",
       "      <td>0.0</td>\n",
       "      <td>0.0</td>\n",
       "      <td>0.0</td>\n",
       "      <td>...</td>\n",
       "      <td>0.0</td>\n",
       "      <td>0.0</td>\n",
       "      <td>0.0</td>\n",
       "      <td>0.0</td>\n",
       "      <td>0.0</td>\n",
       "      <td>0.0</td>\n",
       "      <td>0.0</td>\n",
       "      <td>0.0</td>\n",
       "      <td>0.0</td>\n",
       "      <td>0.0</td>\n",
       "    </tr>\n",
       "    <tr>\n",
       "      <th>36</th>\n",
       "      <td>0.0</td>\n",
       "      <td>0.0</td>\n",
       "      <td>0.0</td>\n",
       "      <td>0.0</td>\n",
       "      <td>0.0</td>\n",
       "      <td>0.0</td>\n",
       "      <td>0.0</td>\n",
       "      <td>0.0</td>\n",
       "      <td>0.0</td>\n",
       "      <td>0.0</td>\n",
       "      <td>...</td>\n",
       "      <td>0.0</td>\n",
       "      <td>0.0</td>\n",
       "      <td>0.0</td>\n",
       "      <td>0.0</td>\n",
       "      <td>0.0</td>\n",
       "      <td>0.0</td>\n",
       "      <td>0.0</td>\n",
       "      <td>0.0</td>\n",
       "      <td>0.0</td>\n",
       "      <td>0.0</td>\n",
       "    </tr>\n",
       "    <tr>\n",
       "      <th>42</th>\n",
       "      <td>0.0</td>\n",
       "      <td>0.0</td>\n",
       "      <td>0.0</td>\n",
       "      <td>0.0</td>\n",
       "      <td>0.0</td>\n",
       "      <td>0.0</td>\n",
       "      <td>0.0</td>\n",
       "      <td>0.0</td>\n",
       "      <td>0.0</td>\n",
       "      <td>0.0</td>\n",
       "      <td>...</td>\n",
       "      <td>0.0</td>\n",
       "      <td>0.0</td>\n",
       "      <td>0.0</td>\n",
       "      <td>0.0</td>\n",
       "      <td>0.0</td>\n",
       "      <td>0.0</td>\n",
       "      <td>0.0</td>\n",
       "      <td>0.0</td>\n",
       "      <td>0.0</td>\n",
       "      <td>0.0</td>\n",
       "    </tr>\n",
       "    <tr>\n",
       "      <th>44</th>\n",
       "      <td>0.0</td>\n",
       "      <td>0.0</td>\n",
       "      <td>0.0</td>\n",
       "      <td>0.0</td>\n",
       "      <td>0.0</td>\n",
       "      <td>0.0</td>\n",
       "      <td>0.0</td>\n",
       "      <td>0.0</td>\n",
       "      <td>0.0</td>\n",
       "      <td>0.0</td>\n",
       "      <td>...</td>\n",
       "      <td>0.0</td>\n",
       "      <td>0.0</td>\n",
       "      <td>0.0</td>\n",
       "      <td>0.0</td>\n",
       "      <td>0.0</td>\n",
       "      <td>0.0</td>\n",
       "      <td>0.0</td>\n",
       "      <td>0.0</td>\n",
       "      <td>0.0</td>\n",
       "      <td>0.0</td>\n",
       "    </tr>\n",
       "    <tr>\n",
       "      <th>51</th>\n",
       "      <td>0.0</td>\n",
       "      <td>0.0</td>\n",
       "      <td>0.0</td>\n",
       "      <td>0.0</td>\n",
       "      <td>0.0</td>\n",
       "      <td>0.0</td>\n",
       "      <td>0.0</td>\n",
       "      <td>0.0</td>\n",
       "      <td>0.0</td>\n",
       "      <td>0.0</td>\n",
       "      <td>...</td>\n",
       "      <td>0.0</td>\n",
       "      <td>0.0</td>\n",
       "      <td>0.0</td>\n",
       "      <td>0.0</td>\n",
       "      <td>0.0</td>\n",
       "      <td>0.0</td>\n",
       "      <td>0.0</td>\n",
       "      <td>0.0</td>\n",
       "      <td>0.0</td>\n",
       "      <td>0.0</td>\n",
       "    </tr>\n",
       "    <tr>\n",
       "      <th>56</th>\n",
       "      <td>0.0</td>\n",
       "      <td>0.0</td>\n",
       "      <td>0.0</td>\n",
       "      <td>0.0</td>\n",
       "      <td>0.0</td>\n",
       "      <td>0.0</td>\n",
       "      <td>0.0</td>\n",
       "      <td>0.0</td>\n",
       "      <td>0.0</td>\n",
       "      <td>0.0</td>\n",
       "      <td>...</td>\n",
       "      <td>0.0</td>\n",
       "      <td>0.0</td>\n",
       "      <td>0.0</td>\n",
       "      <td>0.0</td>\n",
       "      <td>0.0</td>\n",
       "      <td>0.0</td>\n",
       "      <td>0.0</td>\n",
       "      <td>0.0</td>\n",
       "      <td>0.0</td>\n",
       "      <td>0.0</td>\n",
       "    </tr>\n",
       "    <tr>\n",
       "      <th>64</th>\n",
       "      <td>0.0</td>\n",
       "      <td>0.0</td>\n",
       "      <td>0.0</td>\n",
       "      <td>0.0</td>\n",
       "      <td>0.0</td>\n",
       "      <td>0.0</td>\n",
       "      <td>0.0</td>\n",
       "      <td>0.0</td>\n",
       "      <td>0.0</td>\n",
       "      <td>0.0</td>\n",
       "      <td>...</td>\n",
       "      <td>0.0</td>\n",
       "      <td>0.0</td>\n",
       "      <td>0.0</td>\n",
       "      <td>0.0</td>\n",
       "      <td>0.0</td>\n",
       "      <td>0.0</td>\n",
       "      <td>0.0</td>\n",
       "      <td>0.0</td>\n",
       "      <td>0.0</td>\n",
       "      <td>0.0</td>\n",
       "    </tr>\n",
       "  </tbody>\n",
       "</table>\n",
       "<p>10 rows × 1999 columns</p>\n",
       "</div>"
      ],
      "text/plain": [
       "book_title  101 Dalmatians  14,000 Things to Be Happy About  1984  \\\n",
       "user_id                                                             \n",
       "2                      0.0                              0.0   0.0   \n",
       "10                     0.0                              0.0   0.0   \n",
       "19                     0.0                              0.0   0.0   \n",
       "20                     0.0                              0.0   0.0   \n",
       "36                     0.0                              0.0   0.0   \n",
       "42                     0.0                              0.0   0.0   \n",
       "44                     0.0                              0.0   0.0   \n",
       "51                     0.0                              0.0   0.0   \n",
       "56                     0.0                              0.0   0.0   \n",
       "64                     0.0                              0.0   0.0   \n",
       "\n",
       "book_title  1st to Die: A Novel  2061: Odyssey Three  \\\n",
       "user_id                                                \n",
       "2                           0.0                  0.0   \n",
       "10                          0.0                  0.0   \n",
       "19                          0.0                  0.0   \n",
       "20                          0.0                  0.0   \n",
       "36                          0.0                  0.0   \n",
       "42                          0.0                  0.0   \n",
       "44                          0.0                  0.0   \n",
       "51                          0.0                  0.0   \n",
       "56                          0.0                  0.0   \n",
       "64                          0.0                  0.0   \n",
       "\n",
       "book_title  28 Barbary Lane : A \\Tales of the City\\\" Omnibus\"  2nd Chance  \\\n",
       "user_id                                                                     \n",
       "2                                                         0.0         0.0   \n",
       "10                                                        0.0         0.0   \n",
       "19                                                        0.0         0.0   \n",
       "20                                                        0.0         0.0   \n",
       "36                                                        0.0         0.0   \n",
       "42                                                        0.0         0.0   \n",
       "44                                                        0.0         0.0   \n",
       "51                                                        0.0         0.0   \n",
       "56                                                        0.0         0.0   \n",
       "64                                                        0.0         0.0   \n",
       "\n",
       "book_title  40 Tons Of Trouble (Women Who Dare) (Harlequin Super Romance, No 726)  \\\n",
       "user_id                                                                             \n",
       "2                                                         0.0                       \n",
       "10                                                        0.0                       \n",
       "19                                                        0.0                       \n",
       "20                                                        0.0                       \n",
       "36                                                        0.0                       \n",
       "42                                                        0.0                       \n",
       "44                                                        0.0                       \n",
       "51                                                        0.0                       \n",
       "56                                                        0.0                       \n",
       "64                                                        0.0                       \n",
       "\n",
       "book_title   7b  8 Weeks to Optimum Health  ...  Yarrow  \\\n",
       "user_id                                     ...           \n",
       "2           0.0                        0.0  ...     0.0   \n",
       "10          0.0                        0.0  ...     0.0   \n",
       "19          0.0                        0.0  ...     0.0   \n",
       "20          0.0                        0.0  ...     0.0   \n",
       "36          0.0                        0.0  ...     0.0   \n",
       "42          0.0                        0.0  ...     0.0   \n",
       "44          0.0                        0.0  ...     0.0   \n",
       "51          0.0                        0.0  ...     0.0   \n",
       "56          0.0                        0.0  ...     0.0   \n",
       "64          0.0                        0.0  ...     0.0   \n",
       "\n",
       "book_title  Year's Best Fantasy (Year's Best Fantasy)  You Be the Jury #02  \\\n",
       "user_id                                                                      \n",
       "2                                                 0.0                  0.0   \n",
       "10                                                0.0                  0.0   \n",
       "19                                                0.0                  0.0   \n",
       "20                                                0.0                  0.0   \n",
       "36                                                0.0                  0.0   \n",
       "42                                                0.0                  0.0   \n",
       "44                                                0.0                  0.0   \n",
       "51                                                0.0                  0.0   \n",
       "56                                                0.0                  0.0   \n",
       "64                                                0.0                  0.0   \n",
       "\n",
       "book_title  You Can Surf the Net: Your Guide to the World of the Internet  \\\n",
       "user_id                                                                     \n",
       "2                                                         0.0               \n",
       "10                                                        0.0               \n",
       "19                                                        0.0               \n",
       "20                                                        0.0               \n",
       "36                                                        0.0               \n",
       "42                                                        0.0               \n",
       "44                                                        0.0               \n",
       "51                                                        0.0               \n",
       "56                                                        0.0               \n",
       "64                                                        0.0               \n",
       "\n",
       "book_title  You Cannot Be Serious  Your Erroneous Zones  Zeit im Wind.  \\\n",
       "user_id                                                                  \n",
       "2                             0.0                   0.0            0.0   \n",
       "10                            0.0                   0.0            0.0   \n",
       "19                            0.0                   0.0            0.0   \n",
       "20                            0.0                   0.0            0.0   \n",
       "36                            0.0                   0.0            0.0   \n",
       "42                            0.0                   0.0            0.0   \n",
       "44                            0.0                   0.0            0.0   \n",
       "51                            0.0                   0.0            0.0   \n",
       "56                            0.0                   0.0            0.0   \n",
       "64                            0.0                   0.0            0.0   \n",
       "\n",
       "book_title  Zlateh the Goat and Other Stories  Zodiac: The Eco-Thriller  \\\n",
       "user_id                                                                   \n",
       "2                                         0.0                       0.0   \n",
       "10                                        0.0                       0.0   \n",
       "19                                        0.0                       0.0   \n",
       "20                                        0.0                       0.0   \n",
       "36                                        0.0                       0.0   \n",
       "42                                        0.0                       0.0   \n",
       "44                                        0.0                       0.0   \n",
       "51                                        0.0                       0.0   \n",
       "56                                        0.0                       0.0   \n",
       "64                                        0.0                       0.0   \n",
       "\n",
       "book_title  stardust  \n",
       "user_id               \n",
       "2                0.0  \n",
       "10               0.0  \n",
       "19               0.0  \n",
       "20               0.0  \n",
       "36               0.0  \n",
       "42               0.0  \n",
       "44               0.0  \n",
       "51               0.0  \n",
       "56               0.0  \n",
       "64               0.0  \n",
       "\n",
       "[10 rows x 1999 columns]"
      ]
     },
     "execution_count": 24,
     "metadata": {},
     "output_type": "execute_result"
    }
   ],
   "source": [
    "df1 = df.pivot_table(index='user_id',columns='book_title',values='rating').fillna(0)\n",
    "df1.head(10)"
   ]
  },
  {
   "cell_type": "code",
   "execution_count": 25,
   "metadata": {
    "execution": {
     "iopub.execute_input": "2020-09-15T08:06:17.540282Z",
     "iopub.status.busy": "2020-09-15T08:06:17.539582Z",
     "iopub.status.idle": "2020-09-15T08:06:17.558723Z",
     "shell.execute_reply": "2020-09-15T08:06:17.558116Z"
    },
    "papermill": {
     "duration": 0.063959,
     "end_time": "2020-09-15T08:06:17.558897",
     "exception": false,
     "start_time": "2020-09-15T08:06:17.494938",
     "status": "completed"
    },
    "tags": []
   },
   "outputs": [
    {
     "data": {
      "text/html": [
       "<div>\n",
       "<style scoped>\n",
       "    .dataframe tbody tr th:only-of-type {\n",
       "        vertical-align: middle;\n",
       "    }\n",
       "\n",
       "    .dataframe tbody tr th {\n",
       "        vertical-align: top;\n",
       "    }\n",
       "\n",
       "    .dataframe thead th {\n",
       "        text-align: right;\n",
       "    }\n",
       "</style>\n",
       "<table border=\"1\" class=\"dataframe\">\n",
       "  <thead>\n",
       "    <tr style=\"text-align: right;\">\n",
       "      <th></th>\n",
       "      <th>rating</th>\n",
       "      <th>num of ratings</th>\n",
       "    </tr>\n",
       "    <tr>\n",
       "      <th>book_title</th>\n",
       "      <th></th>\n",
       "      <th></th>\n",
       "    </tr>\n",
       "  </thead>\n",
       "  <tbody>\n",
       "    <tr>\n",
       "      <th>Wild Animus</th>\n",
       "      <td>0.989257</td>\n",
       "      <td>2141</td>\n",
       "    </tr>\n",
       "    <tr>\n",
       "      <th>The Lovely Bones: A Novel</th>\n",
       "      <td>4.238043</td>\n",
       "      <td>920</td>\n",
       "    </tr>\n",
       "    <tr>\n",
       "      <th>The Da Vinci Code</th>\n",
       "      <td>4.526619</td>\n",
       "      <td>695</td>\n",
       "    </tr>\n",
       "    <tr>\n",
       "      <th>Angels &amp;amp; Demons</th>\n",
       "      <td>3.774908</td>\n",
       "      <td>542</td>\n",
       "    </tr>\n",
       "    <tr>\n",
       "      <th>Divine Secrets of the Ya-Ya Sisterhood: A Novel</th>\n",
       "      <td>3.168959</td>\n",
       "      <td>509</td>\n",
       "    </tr>\n",
       "    <tr>\n",
       "      <th>Life of Pi</th>\n",
       "      <td>3.938650</td>\n",
       "      <td>489</td>\n",
       "    </tr>\n",
       "    <tr>\n",
       "      <th>The Red Tent (Bestselling Backlist)</th>\n",
       "      <td>3.970339</td>\n",
       "      <td>472</td>\n",
       "    </tr>\n",
       "    <tr>\n",
       "      <th>The Secret Life of Bees</th>\n",
       "      <td>4.166292</td>\n",
       "      <td>445</td>\n",
       "    </tr>\n",
       "    <tr>\n",
       "      <th>Where the Heart Is (Oprah's Book Club (Paperback))</th>\n",
       "      <td>3.953431</td>\n",
       "      <td>408</td>\n",
       "    </tr>\n",
       "    <tr>\n",
       "      <th>The Notebook</th>\n",
       "      <td>3.265356</td>\n",
       "      <td>407</td>\n",
       "    </tr>\n",
       "  </tbody>\n",
       "</table>\n",
       "</div>"
      ],
      "text/plain": [
       "                                                      rating  num of ratings\n",
       "book_title                                                                  \n",
       "Wild Animus                                         0.989257            2141\n",
       "The Lovely Bones: A Novel                           4.238043             920\n",
       "The Da Vinci Code                                   4.526619             695\n",
       "Angels &amp; Demons                                 3.774908             542\n",
       "Divine Secrets of the Ya-Ya Sisterhood: A Novel     3.168959             509\n",
       "Life of Pi                                          3.938650             489\n",
       "The Red Tent (Bestselling Backlist)                 3.970339             472\n",
       "The Secret Life of Bees                             4.166292             445\n",
       "Where the Heart Is (Oprah's Book Club (Paperback))  3.953431             408\n",
       "The Notebook                                        3.265356             407"
      ]
     },
     "execution_count": 25,
     "metadata": {},
     "output_type": "execute_result"
    }
   ],
   "source": [
    "ratings.sort_values('num of ratings',ascending=False).head(10)"
   ]
  },
  {
   "cell_type": "markdown",
   "metadata": {
    "papermill": {
     "duration": 0.050246,
     "end_time": "2020-09-15T08:06:17.662147",
     "exception": false,
     "start_time": "2020-09-15T08:06:17.611901",
     "status": "completed"
    },
    "tags": []
   },
   "source": [
    "# Collaborative Filtering Based Recommender\n",
    "\n",
    "### DV_rating - The Da Vinci Code, LP_rating - Life of Pi, HP_rating - Harry Potter. I'm using these three books for our recomendation. "
   ]
  },
  {
   "cell_type": "code",
   "execution_count": 26,
   "metadata": {
    "execution": {
     "iopub.execute_input": "2020-09-15T08:06:17.769287Z",
     "iopub.status.busy": "2020-09-15T08:06:17.768579Z",
     "iopub.status.idle": "2020-09-15T08:06:17.775929Z",
     "shell.execute_reply": "2020-09-15T08:06:17.775259Z"
    },
    "papermill": {
     "duration": 0.062297,
     "end_time": "2020-09-15T08:06:17.776064",
     "exception": false,
     "start_time": "2020-09-15T08:06:17.713767",
     "status": "completed"
    },
    "tags": []
   },
   "outputs": [
    {
     "data": {
      "text/plain": [
       "user_id\n",
       "2     0.0\n",
       "10    0.0\n",
       "19    0.0\n",
       "20    0.0\n",
       "36    0.0\n",
       "Name: The Da Vinci Code, dtype: float64"
      ]
     },
     "execution_count": 26,
     "metadata": {},
     "output_type": "execute_result"
    }
   ],
   "source": [
    "DV_rating = df1['The Da Vinci Code']\n",
    "LP_rating = df1['Life of Pi']\n",
    "HP_rating = df1['Harry Potter and the Goblet of Fire (Book 4)']\n",
    "DV_rating.head()"
   ]
  },
  {
   "cell_type": "code",
   "execution_count": 27,
   "metadata": {
    "execution": {
     "iopub.execute_input": "2020-09-15T08:06:17.865764Z",
     "iopub.status.busy": "2020-09-15T08:06:17.865072Z",
     "iopub.status.idle": "2020-09-15T08:06:20.916300Z",
     "shell.execute_reply": "2020-09-15T08:06:20.915544Z"
    },
    "papermill": {
     "duration": 3.097182,
     "end_time": "2020-09-15T08:06:20.916456",
     "exception": false,
     "start_time": "2020-09-15T08:06:17.819274",
     "status": "completed"
    },
    "tags": []
   },
   "outputs": [
    {
     "data": {
      "text/plain": [
       "book_title\n",
       "The Da Vinci Code              1.000000\n",
       "Angels &amp; Demons            0.162320\n",
       "The Face                       0.075845\n",
       "The Saving Graces : A Novel    0.071868\n",
       "The Onion Girl                 0.070741\n",
       "dtype: float64"
      ]
     },
     "execution_count": 27,
     "metadata": {},
     "output_type": "execute_result"
    }
   ],
   "source": [
    "similar_to_DV = df1.corrwith(DV_rating)\n",
    "similar_to_LP = df1.corrwith(LP_rating)\n",
    "similar_to_HP = df1.corrwith(HP_rating)\n",
    "similar_to_DV.sort_values(ascending=False).head()"
   ]
  },
  {
   "cell_type": "code",
   "execution_count": 28,
   "metadata": {
    "execution": {
     "iopub.execute_input": "2020-09-15T08:06:21.017966Z",
     "iopub.status.busy": "2020-09-15T08:06:21.016861Z",
     "iopub.status.idle": "2020-09-15T08:06:21.038552Z",
     "shell.execute_reply": "2020-09-15T08:06:21.039182Z"
    },
    "papermill": {
     "duration": 0.075399,
     "end_time": "2020-09-15T08:06:21.039363",
     "exception": false,
     "start_time": "2020-09-15T08:06:20.963964",
     "status": "completed"
    },
    "tags": []
   },
   "outputs": [
    {
     "data": {
      "text/html": [
       "<div>\n",
       "<style scoped>\n",
       "    .dataframe tbody tr th:only-of-type {\n",
       "        vertical-align: middle;\n",
       "    }\n",
       "\n",
       "    .dataframe tbody tr th {\n",
       "        vertical-align: top;\n",
       "    }\n",
       "\n",
       "    .dataframe thead th {\n",
       "        text-align: right;\n",
       "    }\n",
       "</style>\n",
       "<table border=\"1\" class=\"dataframe\">\n",
       "  <thead>\n",
       "    <tr style=\"text-align: right;\">\n",
       "      <th></th>\n",
       "      <th>correlation</th>\n",
       "      <th>num of ratings</th>\n",
       "    </tr>\n",
       "    <tr>\n",
       "      <th>book_title</th>\n",
       "      <th></th>\n",
       "      <th></th>\n",
       "    </tr>\n",
       "  </thead>\n",
       "  <tbody>\n",
       "    <tr>\n",
       "      <th>101 Dalmatians</th>\n",
       "      <td>-0.002682</td>\n",
       "      <td>17</td>\n",
       "    </tr>\n",
       "    <tr>\n",
       "      <th>14,000 Things to Be Happy About</th>\n",
       "      <td>0.013140</td>\n",
       "      <td>22</td>\n",
       "    </tr>\n",
       "    <tr>\n",
       "      <th>1984</th>\n",
       "      <td>0.035025</td>\n",
       "      <td>155</td>\n",
       "    </tr>\n",
       "    <tr>\n",
       "      <th>1st to Die: A Novel</th>\n",
       "      <td>0.028699</td>\n",
       "      <td>80</td>\n",
       "    </tr>\n",
       "    <tr>\n",
       "      <th>2061: Odyssey Three</th>\n",
       "      <td>0.007179</td>\n",
       "      <td>32</td>\n",
       "    </tr>\n",
       "  </tbody>\n",
       "</table>\n",
       "</div>"
      ],
      "text/plain": [
       "                                 correlation  num of ratings\n",
       "book_title                                                  \n",
       "101 Dalmatians                     -0.002682              17\n",
       "14,000 Things to Be Happy About     0.013140              22\n",
       "1984                                0.035025             155\n",
       "1st to Die: A Novel                 0.028699              80\n",
       "2061: Odyssey Three                 0.007179              32"
      ]
     },
     "execution_count": 28,
     "metadata": {},
     "output_type": "execute_result"
    }
   ],
   "source": [
    "corr_DV = pd.DataFrame(similar_to_DV,columns=['correlation'])\n",
    "corr_DV.dropna(inplace=True)\n",
    "corr_DV = corr_DV.join(ratings['num of ratings'])\n",
    "corr_DV.head()"
   ]
  },
  {
   "cell_type": "markdown",
   "metadata": {
    "papermill": {
     "duration": 0.043995,
     "end_time": "2020-09-15T08:06:21.128092",
     "exception": false,
     "start_time": "2020-09-15T08:06:21.084097",
     "status": "completed"
    },
    "tags": []
   },
   "source": [
    "### We can see different books suggested whose number of ratings are less but has perfect correlation. So lets filter out the number of ratings to 200. This will improve our recommended books."
   ]
  },
  {
   "cell_type": "code",
   "execution_count": 29,
   "metadata": {
    "execution": {
     "iopub.execute_input": "2020-09-15T08:06:21.230585Z",
     "iopub.status.busy": "2020-09-15T08:06:21.229670Z",
     "iopub.status.idle": "2020-09-15T08:06:21.235263Z",
     "shell.execute_reply": "2020-09-15T08:06:21.234731Z"
    },
    "papermill": {
     "duration": 0.062984,
     "end_time": "2020-09-15T08:06:21.235433",
     "exception": false,
     "start_time": "2020-09-15T08:06:21.172449",
     "status": "completed"
    },
    "tags": []
   },
   "outputs": [
    {
     "data": {
      "text/html": [
       "<div>\n",
       "<style scoped>\n",
       "    .dataframe tbody tr th:only-of-type {\n",
       "        vertical-align: middle;\n",
       "    }\n",
       "\n",
       "    .dataframe tbody tr th {\n",
       "        vertical-align: top;\n",
       "    }\n",
       "\n",
       "    .dataframe thead th {\n",
       "        text-align: right;\n",
       "    }\n",
       "</style>\n",
       "<table border=\"1\" class=\"dataframe\">\n",
       "  <thead>\n",
       "    <tr style=\"text-align: right;\">\n",
       "      <th></th>\n",
       "      <th>correlation</th>\n",
       "      <th>num of ratings</th>\n",
       "    </tr>\n",
       "    <tr>\n",
       "      <th>book_title</th>\n",
       "      <th></th>\n",
       "      <th></th>\n",
       "    </tr>\n",
       "  </thead>\n",
       "  <tbody>\n",
       "    <tr>\n",
       "      <th>The Da Vinci Code</th>\n",
       "      <td>1.000000</td>\n",
       "      <td>695</td>\n",
       "    </tr>\n",
       "    <tr>\n",
       "      <th>Angels &amp;amp; Demons</th>\n",
       "      <td>0.162320</td>\n",
       "      <td>542</td>\n",
       "    </tr>\n",
       "    <tr>\n",
       "      <th>The Rainmaker</th>\n",
       "      <td>0.053305</td>\n",
       "      <td>275</td>\n",
       "    </tr>\n",
       "    <tr>\n",
       "      <th>Girl with a Pearl Earring</th>\n",
       "      <td>0.051692</td>\n",
       "      <td>332</td>\n",
       "    </tr>\n",
       "    <tr>\n",
       "      <th>To Kill a Mockingbird</th>\n",
       "      <td>0.046598</td>\n",
       "      <td>274</td>\n",
       "    </tr>\n",
       "  </tbody>\n",
       "</table>\n",
       "</div>"
      ],
      "text/plain": [
       "                           correlation  num of ratings\n",
       "book_title                                            \n",
       "The Da Vinci Code             1.000000             695\n",
       "Angels &amp; Demons           0.162320             542\n",
       "The Rainmaker                 0.053305             275\n",
       "Girl with a Pearl Earring     0.051692             332\n",
       "To Kill a Mockingbird         0.046598             274"
      ]
     },
     "execution_count": 29,
     "metadata": {},
     "output_type": "execute_result"
    }
   ],
   "source": [
    "corr_DV[corr_DV['num of ratings']>200].sort_values('correlation',ascending=False).head()"
   ]
  },
  {
   "cell_type": "code",
   "execution_count": 30,
   "metadata": {
    "execution": {
     "iopub.execute_input": "2020-09-15T08:06:21.330389Z",
     "iopub.status.busy": "2020-09-15T08:06:21.329655Z",
     "iopub.status.idle": "2020-09-15T08:06:21.344461Z",
     "shell.execute_reply": "2020-09-15T08:06:21.345043Z"
    },
    "papermill": {
     "duration": 0.065059,
     "end_time": "2020-09-15T08:06:21.345215",
     "exception": false,
     "start_time": "2020-09-15T08:06:21.280156",
     "status": "completed"
    },
    "tags": []
   },
   "outputs": [],
   "source": [
    "corr_LP = pd.DataFrame(similar_to_LP,columns=['correlation'])\n",
    "corr_LP.dropna(inplace=True)\n",
    "corr_LP = corr_LP.join(ratings['num of ratings'])"
   ]
  },
  {
   "cell_type": "code",
   "execution_count": 31,
   "metadata": {
    "execution": {
     "iopub.execute_input": "2020-09-15T08:06:21.439000Z",
     "iopub.status.busy": "2020-09-15T08:06:21.438235Z",
     "iopub.status.idle": "2020-09-15T08:06:21.455881Z",
     "shell.execute_reply": "2020-09-15T08:06:21.456570Z"
    },
    "papermill": {
     "duration": 0.067001,
     "end_time": "2020-09-15T08:06:21.456766",
     "exception": false,
     "start_time": "2020-09-15T08:06:21.389765",
     "status": "completed"
    },
    "tags": []
   },
   "outputs": [
    {
     "data": {
      "text/html": [
       "<div>\n",
       "<style scoped>\n",
       "    .dataframe tbody tr th:only-of-type {\n",
       "        vertical-align: middle;\n",
       "    }\n",
       "\n",
       "    .dataframe tbody tr th {\n",
       "        vertical-align: top;\n",
       "    }\n",
       "\n",
       "    .dataframe thead th {\n",
       "        text-align: right;\n",
       "    }\n",
       "</style>\n",
       "<table border=\"1\" class=\"dataframe\">\n",
       "  <thead>\n",
       "    <tr style=\"text-align: right;\">\n",
       "      <th></th>\n",
       "      <th>correlation</th>\n",
       "      <th>num of ratings</th>\n",
       "    </tr>\n",
       "    <tr>\n",
       "      <th>book_title</th>\n",
       "      <th></th>\n",
       "      <th></th>\n",
       "    </tr>\n",
       "  </thead>\n",
       "  <tbody>\n",
       "    <tr>\n",
       "      <th>Life of Pi</th>\n",
       "      <td>1.000000</td>\n",
       "      <td>489</td>\n",
       "    </tr>\n",
       "    <tr>\n",
       "      <th>Girl with a Pearl Earring</th>\n",
       "      <td>0.088701</td>\n",
       "      <td>332</td>\n",
       "    </tr>\n",
       "    <tr>\n",
       "      <th>The Lovely Bones: A Novel</th>\n",
       "      <td>0.066286</td>\n",
       "      <td>920</td>\n",
       "    </tr>\n",
       "    <tr>\n",
       "      <th>The Red Tent (Bestselling Backlist)</th>\n",
       "      <td>0.058323</td>\n",
       "      <td>472</td>\n",
       "    </tr>\n",
       "    <tr>\n",
       "      <th>She's Come Undone (Oprah's Book Club (Paperback))</th>\n",
       "      <td>0.051390</td>\n",
       "      <td>331</td>\n",
       "    </tr>\n",
       "  </tbody>\n",
       "</table>\n",
       "</div>"
      ],
      "text/plain": [
       "                                                   correlation  num of ratings\n",
       "book_title                                                                    \n",
       "Life of Pi                                            1.000000             489\n",
       "Girl with a Pearl Earring                             0.088701             332\n",
       "The Lovely Bones: A Novel                             0.066286             920\n",
       "The Red Tent (Bestselling Backlist)                   0.058323             472\n",
       "She's Come Undone (Oprah's Book Club (Paperback))     0.051390             331"
      ]
     },
     "execution_count": 31,
     "metadata": {},
     "output_type": "execute_result"
    }
   ],
   "source": [
    "corr_LP[corr_LP['num of ratings']>200].sort_values('correlation',ascending=False).head()"
   ]
  },
  {
   "cell_type": "code",
   "execution_count": 32,
   "metadata": {
    "execution": {
     "iopub.execute_input": "2020-09-15T08:06:21.554654Z",
     "iopub.status.busy": "2020-09-15T08:06:21.554001Z",
     "iopub.status.idle": "2020-09-15T08:06:21.565298Z",
     "shell.execute_reply": "2020-09-15T08:06:21.565889Z"
    },
    "papermill": {
     "duration": 0.059928,
     "end_time": "2020-09-15T08:06:21.566045",
     "exception": false,
     "start_time": "2020-09-15T08:06:21.506117",
     "status": "completed"
    },
    "tags": []
   },
   "outputs": [],
   "source": [
    "corr_HP = pd.DataFrame(similar_to_HP,columns=['correlation'])\n",
    "corr_HP.dropna(inplace=True)\n",
    "corr_HP = corr_HP.join(ratings['num of ratings'])"
   ]
  },
  {
   "cell_type": "code",
   "execution_count": 33,
   "metadata": {
    "execution": {
     "iopub.execute_input": "2020-09-15T08:06:21.668839Z",
     "iopub.status.busy": "2020-09-15T08:06:21.668177Z",
     "iopub.status.idle": "2020-09-15T08:06:21.671305Z",
     "shell.execute_reply": "2020-09-15T08:06:21.671939Z"
    },
    "papermill": {
     "duration": 0.061095,
     "end_time": "2020-09-15T08:06:21.672083",
     "exception": false,
     "start_time": "2020-09-15T08:06:21.610988",
     "status": "completed"
    },
    "tags": []
   },
   "outputs": [
    {
     "data": {
      "text/html": [
       "<div>\n",
       "<style scoped>\n",
       "    .dataframe tbody tr th:only-of-type {\n",
       "        vertical-align: middle;\n",
       "    }\n",
       "\n",
       "    .dataframe tbody tr th {\n",
       "        vertical-align: top;\n",
       "    }\n",
       "\n",
       "    .dataframe thead th {\n",
       "        text-align: right;\n",
       "    }\n",
       "</style>\n",
       "<table border=\"1\" class=\"dataframe\">\n",
       "  <thead>\n",
       "    <tr style=\"text-align: right;\">\n",
       "      <th></th>\n",
       "      <th>correlation</th>\n",
       "      <th>num of ratings</th>\n",
       "    </tr>\n",
       "    <tr>\n",
       "      <th>book_title</th>\n",
       "      <th></th>\n",
       "      <th></th>\n",
       "    </tr>\n",
       "  </thead>\n",
       "  <tbody>\n",
       "    <tr>\n",
       "      <th>Harry Potter and the Prisoner of Azkaban (Book 3)</th>\n",
       "      <td>0.517201</td>\n",
       "      <td>330</td>\n",
       "    </tr>\n",
       "    <tr>\n",
       "      <th>Harry Potter and the Chamber of Secrets (Book 2)</th>\n",
       "      <td>0.466079</td>\n",
       "      <td>402</td>\n",
       "    </tr>\n",
       "    <tr>\n",
       "      <th>Harry Potter and the Order of the Phoenix (Book 5)</th>\n",
       "      <td>0.366980</td>\n",
       "      <td>280</td>\n",
       "    </tr>\n",
       "    <tr>\n",
       "      <th>The Catcher in the Rye</th>\n",
       "      <td>0.059353</td>\n",
       "      <td>296</td>\n",
       "    </tr>\n",
       "    <tr>\n",
       "      <th>The Bonesetter's Daughter</th>\n",
       "      <td>0.058977</td>\n",
       "      <td>237</td>\n",
       "    </tr>\n",
       "  </tbody>\n",
       "</table>\n",
       "</div>"
      ],
      "text/plain": [
       "                                                    correlation  \\\n",
       "book_title                                                        \n",
       "Harry Potter and the Prisoner of Azkaban (Book 3)      0.517201   \n",
       "Harry Potter and the Chamber of Secrets (Book 2)       0.466079   \n",
       "Harry Potter and the Order of the Phoenix (Book 5)     0.366980   \n",
       "The Catcher in the Rye                                 0.059353   \n",
       "The Bonesetter's Daughter                              0.058977   \n",
       "\n",
       "                                                    num of ratings  \n",
       "book_title                                                          \n",
       "Harry Potter and the Prisoner of Azkaban (Book 3)              330  \n",
       "Harry Potter and the Chamber of Secrets (Book 2)               402  \n",
       "Harry Potter and the Order of the Phoenix (Book 5)             280  \n",
       "The Catcher in the Rye                                         296  \n",
       "The Bonesetter's Daughter                                      237  "
      ]
     },
     "execution_count": 33,
     "metadata": {},
     "output_type": "execute_result"
    }
   ],
   "source": [
    "corr_HP[corr_HP['num of ratings']>200].sort_values('correlation',ascending=False).head()"
   ]
  },
  {
   "cell_type": "code",
   "execution_count": null,
   "metadata": {
    "papermill": {
     "duration": 0.045146,
     "end_time": "2020-09-15T08:06:21.763729",
     "exception": false,
     "start_time": "2020-09-15T08:06:21.718583",
     "status": "completed"
    },
    "tags": []
   },
   "outputs": [],
   "source": []
  }
 ],
 "metadata": {
  "kernelspec": {
   "display_name": "Python 3",
   "language": "python",
   "name": "python3"
  },
  "language_info": {
   "codemirror_mode": {
    "name": "ipython",
    "version": 3
   },
   "file_extension": ".py",
   "mimetype": "text/x-python",
   "name": "python",
   "nbconvert_exporter": "python",
   "pygments_lexer": "ipython3",
   "version": "3.7.6"
  },
  "papermill": {
   "duration": 23.287558,
   "end_time": "2020-09-15T08:06:21.917024",
   "environment_variables": {},
   "exception": null,
   "input_path": "__notebook__.ipynb",
   "output_path": "__notebook__.ipynb",
   "parameters": {},
   "start_time": "2020-09-15T08:05:58.629466",
   "version": "2.1.0"
  }
 },
 "nbformat": 4,
 "nbformat_minor": 4
}
